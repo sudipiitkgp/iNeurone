{
 "cells": [
  {
   "cell_type": "code",
   "execution_count": 2,
   "id": "b7dbc22c",
   "metadata": {},
   "outputs": [
    {
     "name": "stdout",
     "output_type": "stream",
     "text": [
      "5\n",
      "6\n",
      "7\n",
      "8\n",
      "9\n"
     ]
    }
   ],
   "source": [
    "a = 5\n",
    "b = 10\n",
    "while a < b : #loop will break if condition is not satisfied\n",
    "    print(a)\n",
    "    a =a+1"
   ]
  },
  {
   "cell_type": "code",
   "execution_count": 4,
   "id": "a6b315b5",
   "metadata": {},
   "outputs": [
    {
     "name": "stdout",
     "output_type": "stream",
     "text": [
      "value of a is 11\n"
     ]
    }
   ],
   "source": [
    "while a <= b :\n",
    "    print(a)\n",
    "    a = a+2 #a=11 here from prev code\n",
    "else :\n",
    "    print(\"value of a is 11\")\n"
   ]
  },
  {
   "cell_type": "code",
   "execution_count": 8,
   "id": "44a3ea9c",
   "metadata": {},
   "outputs": [
    {
     "name": "stdout",
     "output_type": "stream",
     "text": [
      "1\n",
      "2\n",
      "3\n",
      "4\n",
      "5\n",
      "6\n",
      "7\n"
     ]
    }
   ],
   "source": [
    "a = 1\n",
    "b = 10\n",
    "while a<10 :\n",
    "    if a==8 :\n",
    "        break #breaks the loop\n",
    "    print(a)\n",
    "    a= a+1\n",
    "else :\n",
    "    print(\"welcome\")"
   ]
  },
  {
   "cell_type": "code",
   "execution_count": null,
   "id": "8e2cd217",
   "metadata": {},
   "outputs": [],
   "source": [
    "a = 1\n",
    "b = 10\n",
    "while a<=b:\n",
    "    print(a)\n",
    "    if a==3 :\n",
    "        #continue - statement will give infinite loop\n",
    "    a=a+2\n",
    "else :\n",
    "    print(\"ddsfsfs\")"
   ]
  },
  {
   "cell_type": "code",
   "execution_count": 7,
   "id": "9ea411b2",
   "metadata": {},
   "outputs": [
    {
     "name": "stdout",
     "output_type": "stream",
     "text": [
      "2\n",
      "4\n",
      "5\n",
      "6\n",
      "7\n",
      "8\n",
      "9\n",
      "10\n"
     ]
    }
   ],
   "source": [
    "a = 1\n",
    "b = 10\n",
    "while a<b:\n",
    "    a = a+1\n",
    "    if a==3 :\n",
    "        continue #here pass will give all outputs\n",
    "    print(a) # 3 wont be in output as it will go to loop again"
   ]
  },
  {
   "cell_type": "code",
   "execution_count": 9,
   "id": "20977cc7",
   "metadata": {},
   "outputs": [
    {
     "name": "stdout",
     "output_type": "stream",
     "text": [
      "1\n",
      "2\n",
      "3\n",
      "4\n",
      "5\n",
      "6\n",
      "77\n"
     ]
    }
   ],
   "source": [
    "l = [1,2,3,4,5,6,77]\n",
    "for i in l:\n",
    "    print(i)"
   ]
  },
  {
   "cell_type": "code",
   "execution_count": 15,
   "id": "77eb9265",
   "metadata": {},
   "outputs": [
    {
     "data": {
      "text/plain": [
       "7"
      ]
     },
     "execution_count": 15,
     "metadata": {},
     "output_type": "execute_result"
    }
   ],
   "source": [
    "len(l)"
   ]
  },
  {
   "cell_type": "code",
   "execution_count": 14,
   "id": "4975760e",
   "metadata": {},
   "outputs": [
    {
     "name": "stdout",
     "output_type": "stream",
     "text": [
      "1\n",
      "2\n",
      "3\n",
      "4\n",
      "5\n",
      "6\n",
      "77\n"
     ]
    }
   ],
   "source": [
    "a = 0\n",
    "while a < len(l):\n",
    "    print(l[a])\n",
    "    a=a+1"
   ]
  },
  {
   "cell_type": "code",
   "execution_count": 30,
   "id": "392deb48",
   "metadata": {},
   "outputs": [
    {
     "name": "stdout",
     "output_type": "stream",
     "text": [
      "1 77\n",
      "2 1\n",
      "3 2\n",
      "4 3\n",
      "5 4\n",
      "6 5\n",
      "77 6\n"
     ]
    }
   ],
   "source": [
    "a = 0\n",
    "while a < len(l):\n",
    "    print(l[a],l[a-1], end=\"\\n\")\n",
    "    a=a+1"
   ]
  },
  {
   "cell_type": "code",
   "execution_count": 56,
   "id": "656e331b",
   "metadata": {},
   "outputs": [
    {
     "name": "stdout",
     "output_type": "stream",
     "text": [
      "3\n",
      "4\n"
     ]
    }
   ],
   "source": [
    "#tuple index finding\n",
    "t = (3,4,5,6,7,8,9)\n",
    "a = 0\n",
    "while a <len(t):\n",
    "    if t[a] == 6 or t[a] == 7:\n",
    "        print(a)\n",
    "    a=a+1"
   ]
  },
  {
   "cell_type": "code",
   "execution_count": 3,
   "id": "e6fc4616",
   "metadata": {
    "scrolled": true
   },
   "outputs": [
    {
     "name": "stdout",
     "output_type": "stream",
     "text": [
      "-3\n",
      "-4\n"
     ]
    }
   ],
   "source": [
    "#finding backward index\n",
    "t = (3,4,5,6,7,8,9)\n",
    "a = -1 #first tuple index\n",
    "while a >-len(t): #-1>-7\n",
    "    if t[a] == 6 or t[a] == 7:\n",
    "        print(a)\n",
    "    a-=1 #backward increment a-=1 and a=a-1 are same\n",
    "#no element at -8th index thats why tuple index will be out of range"
   ]
  },
  {
   "cell_type": "code",
   "execution_count": 37,
   "id": "8025fc4b",
   "metadata": {},
   "outputs": [
    {
     "name": "stdout",
     "output_type": "stream",
     "text": [
      "('k1', 'sudh')\n",
      "('k2', [1, 2, 3, 4])\n",
      "('k3', (2, 3, 4, 5))\n"
     ]
    }
   ],
   "source": [
    "#using for loop for dict\n",
    "for item in d.items() :\n",
    "    print(item)"
   ]
  },
  {
   "cell_type": "code",
   "execution_count": 44,
   "id": "369a807f",
   "metadata": {},
   "outputs": [
    {
     "name": "stdout",
     "output_type": "stream",
     "text": [
      "['k1']\n",
      "sudh\n",
      "['k2']\n",
      "[1, 2, 3, 4]\n",
      "['k3']\n",
      "(2, 3, 4, 5)\n"
     ]
    }
   ],
   "source": [
    "#using while loop for dict\n",
    "d = {\"k1\": \"sudh\" , \"k2\" : [1,2,3,4], \"k3\" : (2,3,4,5)}\n",
    "a = 0 \n",
    "b = list(d.keys()) #first extract the keys\n",
    "while a < len(b) :\n",
    "    print([b[a]]) #b[0],b[1],b[2] #for keys\n",
    "    print(d[b[a]]) # for values\n",
    "    a+=1"
   ]
  },
  {
   "cell_type": "code",
   "execution_count": null,
   "id": "f46c210b",
   "metadata": {},
   "outputs": [],
   "source": [
    "#len()\n",
    "#range()\n",
    "#print\n",
    "#keys\n",
    "#values\n",
    "#items\n",
    "#append\n",
    "#pop\n",
    "#insert\n",
    "#extend"
   ]
  },
  {
   "cell_type": "code",
   "execution_count": 1,
   "id": "88b155b4",
   "metadata": {},
   "outputs": [
    {
     "name": "stdout",
     "output_type": "stream",
     "text": [
      "this is my first fn\n"
     ]
    }
   ],
   "source": [
    "#functions\n",
    "#def = initiation of fn\n",
    "def test():\n",
    "    print(\"this is my first fn\")\n",
    "#calling a function\n",
    "test()"
   ]
  },
  {
   "cell_type": "code",
   "execution_count": 3,
   "id": "e9bec2a0",
   "metadata": {},
   "outputs": [
    {
     "name": "stdout",
     "output_type": "stream",
     "text": [
      "this is my first fn\n"
     ]
    },
    {
     "data": {
      "text/plain": [
       "NoneType"
      ]
     },
     "execution_count": 3,
     "metadata": {},
     "output_type": "execute_result"
    }
   ],
   "source": [
    "type(test()) #print always retuen nonetype"
   ]
  },
  {
   "cell_type": "code",
   "execution_count": 4,
   "id": "09b8c0b7",
   "metadata": {},
   "outputs": [],
   "source": [
    "def test(): #retur returns same datatype\n",
    "    return \"this is my first fn\""
   ]
  },
  {
   "cell_type": "code",
   "execution_count": 5,
   "id": "cde2e4ed",
   "metadata": {},
   "outputs": [
    {
     "data": {
      "text/plain": [
       "'this is my first fn'"
      ]
     },
     "execution_count": 5,
     "metadata": {},
     "output_type": "execute_result"
    }
   ],
   "source": [
    "test()"
   ]
  },
  {
   "cell_type": "code",
   "execution_count": 6,
   "id": "09d45d99",
   "metadata": {},
   "outputs": [
    {
     "data": {
      "text/plain": [
       "str"
      ]
     },
     "execution_count": 6,
     "metadata": {},
     "output_type": "execute_result"
    }
   ],
   "source": [
    "type(test())"
   ]
  },
  {
   "cell_type": "code",
   "execution_count": 8,
   "id": "f1e8bb25",
   "metadata": {},
   "outputs": [
    {
     "data": {
      "text/plain": [
       "'this is my first fn hell yeah'"
      ]
     },
     "execution_count": 8,
     "metadata": {},
     "output_type": "execute_result"
    }
   ],
   "source": [
    "test() + \" hell yeah\""
   ]
  },
  {
   "cell_type": "code",
   "execution_count": 9,
   "id": "061770ec",
   "metadata": {},
   "outputs": [],
   "source": [
    "def test1():\n",
    "    pass"
   ]
  },
  {
   "cell_type": "code",
   "execution_count": 10,
   "id": "d9027ad7",
   "metadata": {},
   "outputs": [],
   "source": [
    "def test2():\n",
    "    return 1,3,5,7,[45,66,659,2]"
   ]
  },
  {
   "cell_type": "code",
   "execution_count": 11,
   "id": "53059379",
   "metadata": {},
   "outputs": [
    {
     "data": {
      "text/plain": [
       "(1, 3, 5, 7, [45, 66, 659, 2])"
      ]
     },
     "execution_count": 11,
     "metadata": {},
     "output_type": "execute_result"
    }
   ],
   "source": [
    "test2() #returns as tuple"
   ]
  },
  {
   "cell_type": "code",
   "execution_count": 15,
   "id": "de710430",
   "metadata": {},
   "outputs": [],
   "source": [
    "a,b,c,d,e = test2()"
   ]
  },
  {
   "cell_type": "code",
   "execution_count": 16,
   "id": "b4dfc08d",
   "metadata": {},
   "outputs": [
    {
     "data": {
      "text/plain": [
       "1"
      ]
     },
     "execution_count": 16,
     "metadata": {},
     "output_type": "execute_result"
    }
   ],
   "source": [
    "a"
   ]
  },
  {
   "cell_type": "code",
   "execution_count": 19,
   "id": "8169d1ca",
   "metadata": {},
   "outputs": [
    {
     "data": {
      "text/plain": [
       "[45, 66, 659, 2]"
      ]
     },
     "execution_count": 19,
     "metadata": {},
     "output_type": "execute_result"
    }
   ],
   "source": [
    "e"
   ]
  },
  {
   "cell_type": "code",
   "execution_count": 20,
   "id": "d9a3ffbc",
   "metadata": {},
   "outputs": [
    {
     "data": {
      "text/plain": [
       "(20, 10)"
      ]
     },
     "execution_count": 20,
     "metadata": {},
     "output_type": "execute_result"
    }
   ],
   "source": [
    "def test4() :\n",
    "    a = 4*5\n",
    "    b = 6+4\n",
    "    return a,b\n",
    "test4()"
   ]
  },
  {
   "cell_type": "code",
   "execution_count": 24,
   "id": "3fbd4949",
   "metadata": {},
   "outputs": [
    {
     "data": {
      "text/plain": [
       "10"
      ]
     },
     "execution_count": 24,
     "metadata": {},
     "output_type": "execute_result"
    }
   ],
   "source": [
    "_,g = test4() #\"_\" is placeholder\n",
    "g"
   ]
  },
  {
   "cell_type": "code",
   "execution_count": 22,
   "id": "4394abcc",
   "metadata": {},
   "outputs": [
    {
     "data": {
      "text/plain": [
       "(1, 3, 5, 7, [45, 66, 659, 2])"
      ]
     },
     "execution_count": 22,
     "metadata": {},
     "output_type": "execute_result"
    }
   ],
   "source": [
    "test2()"
   ]
  },
  {
   "cell_type": "code",
   "execution_count": 23,
   "id": "021c0762",
   "metadata": {},
   "outputs": [
    {
     "data": {
      "text/plain": [
       "[45, 66, 659, 2]"
      ]
     },
     "execution_count": 23,
     "metadata": {},
     "output_type": "execute_result"
    }
   ],
   "source": [
    "_,_,_,_,j = test2() #\"_\" is placeholder\n",
    "j"
   ]
  },
  {
   "cell_type": "code",
   "execution_count": 32,
   "id": "3326a628",
   "metadata": {},
   "outputs": [],
   "source": [
    "def testx() : #using a loop inside a created fn\n",
    "    a=1\n",
    "    b=10 #need to pass value\n",
    "    while a <= b :\n",
    "        print(a)\n",
    "        a+=2\n",
    "    else :\n",
    "        print(\"this is the end\")\n",
    "    "
   ]
  },
  {
   "cell_type": "code",
   "execution_count": 33,
   "id": "c86c5be9",
   "metadata": {},
   "outputs": [
    {
     "name": "stdout",
     "output_type": "stream",
     "text": [
      "1\n",
      "3\n",
      "5\n",
      "7\n",
      "9\n",
      "this is the end\n"
     ]
    }
   ],
   "source": [
    "testx()"
   ]
  },
  {
   "cell_type": "code",
   "execution_count": 38,
   "id": "0cdc78ef",
   "metadata": {},
   "outputs": [],
   "source": [
    "def testx(a,b) : #pass variable in test()\n",
    "    while a <= b :\n",
    "        print(a)\n",
    "        a+=2\n",
    "    else :\n",
    "        print(\"this is the end\")"
   ]
  },
  {
   "cell_type": "code",
   "execution_count": 46,
   "id": "4e52b8c3",
   "metadata": {},
   "outputs": [
    {
     "name": "stdout",
     "output_type": "stream",
     "text": [
      "1\n",
      "3\n",
      "5\n",
      "7\n",
      "9\n",
      "11\n",
      "13\n",
      "15\n",
      "this is the end\n"
     ]
    }
   ],
   "source": [
    "testx(1,15)"
   ]
  },
  {
   "cell_type": "code",
   "execution_count": 49,
   "id": "c34c205a",
   "metadata": {},
   "outputs": [
    {
     "name": "stdout",
     "output_type": "stream",
     "text": [
      "this is the end\n"
     ]
    }
   ],
   "source": [
    "testx(225,11)"
   ]
  },
  {
   "cell_type": "code",
   "execution_count": 52,
   "id": "7cf98e09",
   "metadata": {},
   "outputs": [],
   "source": [
    "def testx(a,b) : #pass variable in test()\n",
    "    while a <= b :\n",
    "        print(a)\n",
    "        return(a)\n",
    "        a+=2\n",
    "    else :\n",
    "        print(\"this is the end\")"
   ]
  },
  {
   "cell_type": "code",
   "execution_count": 51,
   "id": "67767e90",
   "metadata": {},
   "outputs": [
    {
     "name": "stdout",
     "output_type": "stream",
     "text": [
      "1\n"
     ]
    },
    {
     "data": {
      "text/plain": [
       "1"
      ]
     },
     "execution_count": 51,
     "metadata": {},
     "output_type": "execute_result"
    }
   ],
   "source": [
    "testx(1,10)"
   ]
  },
  {
   "cell_type": "code",
   "execution_count": 6,
   "id": "1c46375c",
   "metadata": {},
   "outputs": [],
   "source": [
    "#fn generation for operations\n",
    "def testx(a,b) :\n",
    "    l = []\n",
    "    while a<=b :\n",
    "        l.append(a)\n",
    "        a+=2\n",
    "    else :\n",
    "        print(\"this is the end\")\n",
    "    return l"
   ]
  },
  {
   "cell_type": "code",
   "execution_count": 8,
   "id": "50992ab8",
   "metadata": {},
   "outputs": [
    {
     "name": "stdout",
     "output_type": "stream",
     "text": [
      "this is the end\n"
     ]
    },
    {
     "data": {
      "text/plain": [
       "[1, 3, 5, 7, 9, 11, 13, 15]"
      ]
     },
     "execution_count": 8,
     "metadata": {},
     "output_type": "execute_result"
    }
   ],
   "source": [
    "testx(1,15)"
   ]
  },
  {
   "cell_type": "code",
   "execution_count": 2,
   "id": "d887a4b7",
   "metadata": {},
   "outputs": [],
   "source": [
    "l = [4,5,6,67,7,8,8,9,9,9,[3,4,5,6,7,7], \"sudh\"]"
   ]
  },
  {
   "cell_type": "code",
   "execution_count": 3,
   "id": "39b555ba",
   "metadata": {},
   "outputs": [],
   "source": [
    "#return in from list\n",
    "l1 = []\n",
    "for i in l:\n",
    "    if type(i) == int:\n",
    "        l1.append(i)"
   ]
  },
  {
   "cell_type": "code",
   "execution_count": 4,
   "id": "c6f65bc6",
   "metadata": {},
   "outputs": [
    {
     "data": {
      "text/plain": [
       "[4, 5, 6, 67, 7, 8, 8, 9, 9, 9]"
      ]
     },
     "execution_count": 4,
     "metadata": {},
     "output_type": "execute_result"
    }
   ],
   "source": [
    "l1"
   ]
  },
  {
   "cell_type": "code",
   "execution_count": 11,
   "id": "8f637005",
   "metadata": {},
   "outputs": [],
   "source": [
    "l3 =[345,45,5,5,6,5,\"sudh\",(3,4,5)] "
   ]
  },
  {
   "cell_type": "code",
   "execution_count": 12,
   "id": "59105f4b",
   "metadata": {},
   "outputs": [],
   "source": [
    "#return only int from list using fn\n",
    "l = [4,5,6,67,7,8,8,9,9,9,[3,4,5,6,7,7], \"sudh\"]\n",
    "def test8(l) :\n",
    "    l1 = []\n",
    "    for i in l:\n",
    "        if type(i) == int :\n",
    "            l1.append(i)\n",
    "    return l1"
   ]
  },
  {
   "cell_type": "code",
   "execution_count": 13,
   "id": "5d229bf6",
   "metadata": {},
   "outputs": [
    {
     "data": {
      "text/plain": [
       "[345, 45, 5, 5, 6, 5]"
      ]
     },
     "execution_count": 13,
     "metadata": {},
     "output_type": "execute_result"
    }
   ],
   "source": [
    "test8(l3)"
   ]
  },
  {
   "cell_type": "code",
   "execution_count": 1,
   "id": "f3b602d6",
   "metadata": {},
   "outputs": [
    {
     "name": "stdout",
     "output_type": "stream",
     "text": [
      "-3\n",
      "-4\n"
     ]
    }
   ],
   "source": [
    "t = (3,4,5,6,7,8,9)\n",
    "a = -1\n",
    "while a >-len(t):\n",
    "    if t[a] == 6 or t[a] == 7:\n",
    "        print(a)\n",
    "    a-=1"
   ]
  },
  {
   "cell_type": "code",
   "execution_count": 6,
   "id": "6de42289",
   "metadata": {},
   "outputs": [],
   "source": [
    "t = (3,4,5,6,7,8,9)\n",
    "def test8(t):\n",
    "    a = -1\n",
    "    while a >-len(t):\n",
    "        if t[a] == 6 or t[a] == 7:\n",
    "            print(a)\n",
    "        a-=1"
   ]
  },
  {
   "cell_type": "code",
   "execution_count": 7,
   "id": "e8c21335",
   "metadata": {},
   "outputs": [
    {
     "name": "stdout",
     "output_type": "stream",
     "text": [
      "-3\n",
      "-4\n"
     ]
    }
   ],
   "source": [
    "test8(t)"
   ]
  },
  {
   "cell_type": "code",
   "execution_count": 8,
   "id": "e12904e5",
   "metadata": {},
   "outputs": [
    {
     "name": "stdout",
     "output_type": "stream",
     "text": [
      "-2\n",
      "-3\n",
      "-4\n",
      "-5\n",
      "-6\n"
     ]
    }
   ],
   "source": [
    "test8((3,4,4,6,6,7,7,7,88))"
   ]
  },
  {
   "cell_type": "code",
   "execution_count": 35,
   "id": "d385449c",
   "metadata": {},
   "outputs": [],
   "source": [
    "def star(height) :\n",
    "    row = 1\n",
    "    while row <= height:\n",
    "        print(\" * \" * row, end=\"  \")\n",
    "        row+=1\n",
    "        print()"
   ]
  },
  {
   "cell_type": "code",
   "execution_count": 36,
   "id": "6070df0c",
   "metadata": {},
   "outputs": [
    {
     "name": "stdout",
     "output_type": "stream",
     "text": [
      " *   \n",
      " *  *   \n",
      " *  *  *   \n",
      " *  *  *  *   \n",
      " *  *  *  *  *   \n",
      " *  *  *  *  *  *   \n",
      " *  *  *  *  *  *  *   \n",
      " *  *  *  *  *  *  *  *   \n",
      " *  *  *  *  *  *  *  *  *   \n",
      " *  *  *  *  *  *  *  *  *  *   \n"
     ]
    }
   ],
   "source": [
    "star(10)"
   ]
  },
  {
   "cell_type": "code",
   "execution_count": null,
   "id": "0cbce7f7",
   "metadata": {},
   "outputs": [],
   "source": [
    "A\n",
    "B H\n",
    "C I N\n",
    "D J O S\n",
    "E K P T W\n",
    "F L Q U X Z\n",
    "G M R V Y"
   ]
  },
  {
   "cell_type": "code",
   "execution_count": null,
   "id": "39a2c59a",
   "metadata": {},
   "outputs": [],
   "source": []
  }
 ],
 "metadata": {
  "kernelspec": {
   "display_name": "Python 3 (ipykernel)",
   "language": "python",
   "name": "python3"
  },
  "language_info": {
   "codemirror_mode": {
    "name": "ipython",
    "version": 3
   },
   "file_extension": ".py",
   "mimetype": "text/x-python",
   "name": "python",
   "nbconvert_exporter": "python",
   "pygments_lexer": "ipython3",
   "version": "3.9.12"
  }
 },
 "nbformat": 4,
 "nbformat_minor": 5
}
