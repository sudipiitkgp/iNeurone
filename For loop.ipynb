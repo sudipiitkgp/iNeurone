{
 "cells": [
  {
   "cell_type": "code",
   "execution_count": 1,
   "id": "1abd2804",
   "metadata": {},
   "outputs": [
    {
     "name": "stdout",
     "output_type": "stream",
     "text": [
      "0\n",
      "1\n",
      "2\n",
      "3\n",
      "4\n",
      "5\n",
      "6\n",
      "7\n",
      "8\n",
      "9\n",
      "10\n",
      "11\n"
     ]
    }
   ],
   "source": [
    "for i in range(12):\n",
    "    print(i)"
   ]
  },
  {
   "cell_type": "code",
   "execution_count": 2,
   "id": "d3a58abc",
   "metadata": {},
   "outputs": [
    {
     "name": "stdout",
     "output_type": "stream",
     "text": [
      "0\n",
      "3\n",
      "6\n",
      "9\n"
     ]
    }
   ],
   "source": [
    "for i in range(0,12,3): \n",
    "    print(i)"
   ]
  },
  {
   "cell_type": "code",
   "execution_count": 3,
   "id": "afc769ec",
   "metadata": {},
   "outputs": [],
   "source": [
    "l = [1,2,3,\"paik\",\"df\",556055]\n",
    "for i in l :\n",
    "    pass #pass fn blank output"
   ]
  },
  {
   "cell_type": "code",
   "execution_count": 4,
   "id": "8f1770a2",
   "metadata": {},
   "outputs": [
    {
     "name": "stdout",
     "output_type": "stream",
     "text": [
      "S\n",
      "u\n",
      "d\n",
      "i\n",
      "p\n",
      " \n",
      "P\n",
      "a\n",
      "i\n",
      "k\n"
     ]
    }
   ],
   "source": [
    "#for loop must have proper indentation\n",
    "for i in \"Sudip Paik\" :\n",
    "    print(i)"
   ]
  },
  {
   "cell_type": "code",
   "execution_count": 3,
   "id": "b6f4642f",
   "metadata": {},
   "outputs": [
    {
     "name": "stdout",
     "output_type": "stream",
     "text": [
      "1\n",
      "2\n",
      "3\n",
      "paik\n",
      "df\n",
      "556055\n",
      "Prev Loop Exhausted\n"
     ]
    }
   ],
   "source": [
    "l = [1,2,3,\"paik\",\"df\",556055]\n",
    "for i in l :\n",
    "    print (i)\n",
    "else :\n",
    "    print(\"Prev Loop Exhausted\") #once for loop is completed"
   ]
  },
  {
   "cell_type": "code",
   "execution_count": 5,
   "id": "ebfad94d",
   "metadata": {},
   "outputs": [
    {
     "name": "stdout",
     "output_type": "stream",
     "text": [
      "1\n",
      "2\n"
     ]
    }
   ],
   "source": [
    "for i in l :\n",
    "    if i == 3 :\n",
    "        break # \n",
    "    print(i)\n",
    "else :\n",
    "    print(\"this will executed only when for loop is going to complete\")"
   ]
  },
  {
   "cell_type": "code",
   "execution_count": 19,
   "id": "e9d21b05",
   "metadata": {},
   "outputs": [
    {
     "name": "stdout",
     "output_type": "stream",
     "text": [
      "S\n",
      "u\n",
      "d\n",
      "i\n",
      "p\n",
      "_\n",
      "P\n",
      "a\n",
      "i\n",
      "k\n",
      "Print str Sudip_Paik\n"
     ]
    }
   ],
   "source": [
    "S = \"Sudip_Paik\"\n",
    "for i in S :\n",
    "    if i == \"l\" :\n",
    "        break\n",
    "    print(i)\n",
    "else :\n",
    "    print(\"Print str\", S )"
   ]
  },
  {
   "cell_type": "code",
   "execution_count": 21,
   "id": "c31816b0",
   "metadata": {},
   "outputs": [
    {
     "name": "stdout",
     "output_type": "stream",
     "text": [
      "4\n",
      "5\n",
      "6\n",
      "7\n",
      "8\n",
      "Sudip\n"
     ]
    }
   ],
   "source": [
    "t = (4,5,6,7,8,\"Sudip\")\n",
    "for i in t:\n",
    "    print(i)"
   ]
  },
  {
   "cell_type": "code",
   "execution_count": 23,
   "id": "c29396df",
   "metadata": {},
   "outputs": [
    {
     "name": "stdout",
     "output_type": "stream",
     "text": [
      "2\n",
      "3\n",
      "4\n",
      "5\n",
      "6\n",
      "7\n",
      "8\n",
      "9\n"
     ]
    }
   ],
   "source": [
    "s = {2,3,4,5,6,7,7,7,7,7,8,8,8,9}\n",
    "for i in s :\n",
    "    print(i)"
   ]
  },
  {
   "cell_type": "code",
   "execution_count": null,
   "id": "e6e9cce5",
   "metadata": {},
   "outputs": [],
   "source": [
    "s = {2,3,4,5,6,7,7,7,7,7,8,8,8,9}\n",
    "for i in s :\n",
    "    print(i)"
   ]
  },
  {
   "cell_type": "code",
   "execution_count": 3,
   "id": "3624ff2e",
   "metadata": {},
   "outputs": [
    {
     "name": "stdout",
     "output_type": "stream",
     "text": [
      "key1 dfwsf\n",
      "key2 fsgv\n",
      "key3 fscff00\n"
     ]
    }
   ],
   "source": [
    "d = {\"key1\" : \"dfwsf\" , \"key2\" : \"fsgv\" , \"key3\" : \"fscff00\"}\n",
    "for i in d :\n",
    "    print(i,d[i])"
   ]
  },
  {
   "cell_type": "code",
   "execution_count": 15,
   "id": "d729fd4c",
   "metadata": {},
   "outputs": [
    {
     "name": "stdout",
     "output_type": "stream",
     "text": [
      "* * *\n",
      "* * *\n",
      "* * *\n"
     ]
    }
   ],
   "source": [
    "d = \"* * *\"\n",
    "for i in range(3): #here range signifies no of rows\n",
    "    print(d)"
   ]
  },
  {
   "cell_type": "code",
   "execution_count": 18,
   "id": "1d92f4d8",
   "metadata": {},
   "outputs": [
    {
     "name": "stdout",
     "output_type": "stream",
     "text": [
      "* \n",
      "\n",
      "* * \n",
      "\n",
      "* * * \n",
      "\n",
      "* * * * \n",
      "\n"
     ]
    }
   ],
   "source": [
    "for i in range(0, 4): #Outer loop to iterate through each row\n",
    "    for j in range(0,i+1): #Inner loop to print stars in each row\n",
    "        print(\"*\", end = \" \") #\n",
    "    print(\"\\n\")"
   ]
  },
  {
   "cell_type": "code",
   "execution_count": 21,
   "id": "51ec4da9",
   "metadata": {},
   "outputs": [
    {
     "data": {
      "text/plain": [
       "[9, 7, 5, 3, 1]"
      ]
     },
     "execution_count": 21,
     "metadata": {},
     "output_type": "execute_result"
    }
   ],
   "source": [
    "list(range(9,0,-2))"
   ]
  },
  {
   "cell_type": "code",
   "execution_count": 25,
   "id": "0c85ab54",
   "metadata": {},
   "outputs": [
    {
     "name": "stdout",
     "output_type": "stream",
     "text": [
      "Sud \n",
      "\n",
      "Sud Sud \n",
      "\n",
      "Sud Sud Sud \n",
      "\n",
      "Sud Sud Sud Sud \n",
      "\n",
      "Sud Sud Sud Sud Sud \n",
      "\n"
     ]
    }
   ],
   "source": [
    "n = 5\n",
    "for i in range(5): #iterated from 0-4\n",
    "    for j in range(0,i+1): \n",
    "        print(\"Sud\" , end = \" \")\n",
    "    print(\"\\n\")"
   ]
  },
  {
   "cell_type": "code",
   "execution_count": null,
   "id": "c58613ec",
   "metadata": {},
   "outputs": [],
   "source": [
    "#n = 5: The variable n is assigned the value 5. However, n is not used in the subsequent code.\n",
    "\n",
    "#Outer loop: for i in range(5):: This loop iterates from 0 to 4 (inclusive) because range(5) generates a sequence from 0 to 4.\n",
    "\n",
    "#Inner loop: for j in range(0, i+1):: This loop iterates from 0 to the current value of i (inclusive). In the first iteration of the outer loop (i = 0), the inner loop will run once with j taking the value 0.\n",
    "\n",
    "#print(\"Sudip\", end=\" \"): This statement prints the word \"Sudip\" followed by a space without moving to the next line due to the end=\" \" parameter.\n",
    "\n",
    "#print(\"\\n\"): This statement prints a new line, moving the cursor to the beginning of the next line after the inner loop has finished executing"
   ]
  },
  {
   "cell_type": "code",
   "execution_count": 30,
   "id": "dbbf1def",
   "metadata": {},
   "outputs": [
    {
     "name": "stdout",
     "output_type": "stream",
     "text": [
      "            Sudip \n",
      "      Sudip Sudip Sudip \n",
      "Sudip Sudip Sudip Sudip Sudip \n"
     ]
    }
   ],
   "source": [
    "n = 3  # You can change 'n' to any desired number of rows for the triangle\n",
    "\n",
    "for i in range(n):\n",
    "    for j in range (i,n-1):\n",
    "        print(\" \" * len(\"Sudip\"), end = \" \")\n",
    "    for j in range(i+1):\n",
    "        print(\"Sudip\" , end = \" \")          \n",
    "    for j in range (i):\n",
    "        print(\"Sudip\", end=\" \")\n",
    "    print() #new line\n"
   ]
  },
  {
   "cell_type": "code",
   "execution_count": 33,
   "id": "5ed2b8a8",
   "metadata": {},
   "outputs": [
    {
     "data": {
      "text/plain": [
       "[0, 1, 2, 3, 4, 5, 6]"
      ]
     },
     "execution_count": 33,
     "metadata": {},
     "output_type": "execute_result"
    }
   ],
   "source": [
    "list(range(7))"
   ]
  },
  {
   "cell_type": "code",
   "execution_count": 40,
   "id": "c171c4aa",
   "metadata": {},
   "outputs": [
    {
     "data": {
      "text/plain": [
       "[0, 1, 2, 3, 4, 5, 6]"
      ]
     },
     "execution_count": 40,
     "metadata": {},
     "output_type": "execute_result"
    }
   ],
   "source": [
    "t = tuple(range(7))\n",
    "list(range(len(t)))"
   ]
  },
  {
   "cell_type": "code",
   "execution_count": 37,
   "id": "6bd34fb2",
   "metadata": {},
   "outputs": [
    {
     "name": "stdout",
     "output_type": "stream",
     "text": [
      "0\n",
      "1\n",
      "2\n",
      "3\n",
      "4\n",
      "5\n",
      "6\n"
     ]
    }
   ],
   "source": [
    "for i in t:\n",
    "    print(i)"
   ]
  },
  {
   "cell_type": "code",
   "execution_count": 38,
   "id": "3643192d",
   "metadata": {},
   "outputs": [
    {
     "name": "stdout",
     "output_type": "stream",
     "text": [
      "0 0\n",
      "1 1\n",
      "2 2\n",
      "3 3\n",
      "4 4\n",
      "5 5\n",
      "6 6\n"
     ]
    }
   ],
   "source": [
    "for i in range(len(t)):\n",
    "    print(i,t[i]) #index along with respective elements"
   ]
  },
  {
   "cell_type": "code",
   "execution_count": 8,
   "id": "d99186ea",
   "metadata": {},
   "outputs": [
    {
     "name": "stdout",
     "output_type": "stream",
     "text": [
      "0 i\n",
      "1 n\n",
      "2 e\n",
      "3 u\n",
      "4 r\n",
      "5 o\n",
      "6 n\n"
     ]
    }
   ],
   "source": [
    "s = 'ineuron'\n",
    "for i in range(len(s)):\n",
    "    print(i,s[i])"
   ]
  },
  {
   "cell_type": "code",
   "execution_count": 13,
   "id": "fbe68eab",
   "metadata": {},
   "outputs": [
    {
     "name": "stdout",
     "output_type": "stream",
     "text": [
      "6 n\n",
      "5 o\n",
      "4 r\n",
      "3 u\n",
      "2 e\n",
      "1 n\n",
      "0 i\n"
     ]
    }
   ],
   "source": [
    "s = 'ineuron'\n",
    "for i in reversed(range(len(s))) :\n",
    "    print(i,s[i])"
   ]
  },
  {
   "cell_type": "code",
   "execution_count": 14,
   "id": "68699c9b",
   "metadata": {},
   "outputs": [],
   "source": [
    "d = {\"key1\" : \"dfwsf\" , \"key2\" : \"fsgv\" , \"key3\" : \"fscff00\"}"
   ]
  },
  {
   "cell_type": "code",
   "execution_count": 20,
   "id": "4803cda9",
   "metadata": {},
   "outputs": [
    {
     "name": "stdout",
     "output_type": "stream",
     "text": [
      "('key1', 'dfwsf') <class 'tuple'> <class 'str'>\n",
      "('key2', 'fsgv') <class 'tuple'> <class 'str'>\n",
      "('key3', 'fscff00') <class 'tuple'> <class 'str'>\n"
     ]
    }
   ],
   "source": [
    "for i in d.items() : #i is tuple and values are at first index \n",
    "    print((i), type(i), type(i[1])) #dict to tuples"
   ]
  },
  {
   "cell_type": "code",
   "execution_count": 21,
   "id": "c4713a4e",
   "metadata": {},
   "outputs": [],
   "source": []
  },
  {
   "cell_type": "code",
   "execution_count": 32,
   "id": "b967c505",
   "metadata": {},
   "outputs": [
    {
     "name": "stdout",
     "output_type": "stream",
     "text": [
      "[3234545, 345, 3454543]\n"
     ]
    }
   ],
   "source": [
    "#extracting only numbers from list\n",
    "l = [\"sudh\",\"kumar\",3234545,\"sudh@ineuron.ai\",345,3454543]\n",
    "l1 = []\n",
    "for i in l:\n",
    "    if type(i) == int :\n",
    "        l1.append(i)\n",
    "print(l1)"
   ]
  },
  {
   "cell_type": "code",
   "execution_count": 44,
   "id": "1e111b3d",
   "metadata": {},
   "outputs": [
    {
     "name": "stdout",
     "output_type": "stream",
     "text": [
      "1 : 68656\n",
      "234 : 3465\n"
     ]
    }
   ],
   "source": [
    "#extract numeric keys with values from dict\n",
    "d = {1 : 68656 , \"name\" : \"sudp\" , 234 : \"sdfsfv\" , \"43\" : \"sdfefc\" , 234 : \"3465\" }\n",
    "for i in d:\n",
    "    if type(i) == int:\n",
    "        print(i, \":\" , d[i])"
   ]
  },
  {
   "cell_type": "code",
   "execution_count": 55,
   "id": "e1538ad1",
   "metadata": {},
   "outputs": [
    {
     "data": {
      "text/plain": [
       "{'a', 'b', 'c', 'd'}"
      ]
     },
     "execution_count": 55,
     "metadata": {},
     "output_type": "execute_result"
    }
   ],
   "source": [
    "s = \"aaaabbccd\"\n",
    "set(s) #conversion to set to get unique elements"
   ]
  },
  {
   "cell_type": "code",
   "execution_count": 58,
   "id": "713c796a",
   "metadata": {},
   "outputs": [
    {
     "data": {
      "text/plain": [
       "4"
      ]
     },
     "execution_count": 58,
     "metadata": {},
     "output_type": "execute_result"
    }
   ],
   "source": [
    "s.count('a')"
   ]
  },
  {
   "cell_type": "code",
   "execution_count": 59,
   "id": "9eb872a8",
   "metadata": {},
   "outputs": [
    {
     "name": "stdout",
     "output_type": "stream",
     "text": [
      "a : 4\n",
      "c : 2\n",
      "b : 2\n",
      "d : 1\n"
     ]
    }
   ],
   "source": [
    "for i in set(s) :\n",
    "    print(i, \":\", s.count(i))"
   ]
  },
  {
   "cell_type": "code",
   "execution_count": 72,
   "id": "6557530d",
   "metadata": {},
   "outputs": [
    {
     "name": "stdout",
     "output_type": "stream",
     "text": [
      "2 <class 'int'>\n",
      "8 <class 'int'>\n",
      "5 <class 'int'>\n",
      "3 <class 'int'>\n",
      "4 <class 'int'>\n",
      "9 <class 'int'>\n",
      "0 <class 'int'>\n",
      "1 <class 'int'>\n"
     ]
    }
   ],
   "source": [
    "i = 344559202995152522255584444\n",
    "s = set(str(i))\n",
    "for j in s:\n",
    "        print(int(j) , type(int(j)))"
   ]
  },
  {
   "cell_type": "code",
   "execution_count": 75,
   "id": "3ecc5dd2",
   "metadata": {},
   "outputs": [
    {
     "data": {
      "text/plain": [
       "'344559202995152522255584444'"
      ]
     },
     "execution_count": 75,
     "metadata": {},
     "output_type": "execute_result"
    }
   ],
   "source": [
    "str(i)"
   ]
  },
  {
   "cell_type": "code",
   "execution_count": 95,
   "id": "be35f009",
   "metadata": {},
   "outputs": [
    {
     "name": "stdout",
     "output_type": "stream",
     "text": [
      "3\n",
      "3\n"
     ]
    }
   ],
   "source": [
    "\n",
    "        "
   ]
  },
  {
   "cell_type": "code",
   "execution_count": 100,
   "id": "18b03d75",
   "metadata": {},
   "outputs": [
    {
     "name": "stdout",
     "output_type": "stream",
     "text": [
      "3\n",
      "3\n",
      "3\n",
      "3\n"
     ]
    }
   ],
   "source": [
    "t = (\"sudh\" , \"kumar\" , [1,2,3,4,5] ,(3,4,5,6) , {3 : 3 , \"key2\" : \"kumar\"})\n",
    "for i in t:\n",
    "    if type(i) == list or type(i) == tuple :\n",
    "        for j in i :\n",
    "            if j == 3 :\n",
    "                print(j)\n",
    "    if type(i) == dict :\n",
    "        for k,v in i.items() :\n",
    "            if k == 3 or v == 3 :\n",
    "                print(k)\n",
    "                print(v)"
   ]
  },
  {
   "cell_type": "code",
   "execution_count": 78,
   "id": "fd2e8766",
   "metadata": {},
   "outputs": [
    {
     "name": "stdout",
     "output_type": "stream",
     "text": [
      "ineuron \n",
      "ineuron ineuron \n",
      "ineuron ineuron ineuron \n",
      "ineuron ineuron ineuron ineuron \n"
     ]
    }
   ],
   "source": [
    "#q1\n",
    "a = \"ineuron\"\n",
    "n = 4\n",
    "for i in range(4):\n",
    "    for j in range(0,i+1):\n",
    "        print(a , end = \" \")\n",
    "    print()"
   ]
  },
  {
   "cell_type": "code",
   "execution_count": 82,
   "id": "39884a7c",
   "metadata": {},
   "outputs": [],
   "source": [
    "p = \"aabbbuidfiriiifssss\"\n",
    "d ={}\n",
    "for i in set(p):\n",
    "    d[i] = p.count(i)"
   ]
  },
  {
   "cell_type": "code",
   "execution_count": 83,
   "id": "47266c20",
   "metadata": {},
   "outputs": [
    {
     "data": {
      "text/plain": [
       "{'s': 4, 'r': 1, 'u': 1, 'd': 1, 'b': 3, 'i': 5, 'a': 2, 'f': 2}"
      ]
     },
     "execution_count": 83,
     "metadata": {},
     "output_type": "execute_result"
    }
   ],
   "source": [
    "d"
   ]
  },
  {
   "cell_type": "code",
   "execution_count": null,
   "id": "ce2a7d75",
   "metadata": {},
   "outputs": [],
   "source": []
  },
  {
   "cell_type": "code",
   "execution_count": null,
   "id": "4694b54b",
   "metadata": {},
   "outputs": [],
   "source": []
  },
  {
   "cell_type": "code",
   "execution_count": null,
   "id": "473a4928",
   "metadata": {},
   "outputs": [],
   "source": []
  },
  {
   "cell_type": "code",
   "execution_count": null,
   "id": "318b4b02",
   "metadata": {},
   "outputs": [],
   "source": [
    "#q2\n",
    "n = 5\n",
    "for i in range(n):\n",
    "    for j in range (i,n-1):\n",
    "        print(\" \" * len(\"Sudip\"), end = \" \")\n",
    "    for j in range(i+1):\n",
    "        print(\"Sudip\" , end = \" \")          \n",
    "    for j in range (i):\n",
    "        print(\"Sudip\", end=\" \")\n",
    "    for j in range ()\n",
    "    print()"
   ]
  }
 ],
 "metadata": {
  "kernelspec": {
   "display_name": "Python 3 (ipykernel)",
   "language": "python",
   "name": "python3"
  },
  "language_info": {
   "codemirror_mode": {
    "name": "ipython",
    "version": 3
   },
   "file_extension": ".py",
   "mimetype": "text/x-python",
   "name": "python",
   "nbconvert_exporter": "python",
   "pygments_lexer": "ipython3",
   "version": "3.9.12"
  }
 },
 "nbformat": 4,
 "nbformat_minor": 5
}
