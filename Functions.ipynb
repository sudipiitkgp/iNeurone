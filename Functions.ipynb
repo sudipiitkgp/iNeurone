{
 "cells": [
  {
   "cell_type": "code",
   "execution_count": 6,
   "id": "1264366e",
   "metadata": {},
   "outputs": [],
   "source": [
    "def test(a,b):\n",
    "    '''This is my fn to add or concatinante'''\n",
    "    return a+b"
   ]
  },
  {
   "cell_type": "code",
   "execution_count": 3,
   "id": "1550c4ba",
   "metadata": {},
   "outputs": [
    {
     "data": {
      "text/plain": [
       "'Sudip Paik'"
      ]
     },
     "execution_count": 3,
     "metadata": {},
     "output_type": "execute_result"
    }
   ],
   "source": [
    "test(\"Sudip \",\"Paik\")"
   ]
  },
  {
   "cell_type": "code",
   "execution_count": 4,
   "id": "ff7a9556",
   "metadata": {},
   "outputs": [
    {
     "data": {
      "text/plain": [
       "35"
      ]
     },
     "execution_count": 4,
     "metadata": {},
     "output_type": "execute_result"
    }
   ],
   "source": [
    "test(a = 10, b= 25)"
   ]
  },
  {
   "cell_type": "code",
   "execution_count": 7,
   "id": "70582d6f",
   "metadata": {},
   "outputs": [
    {
     "name": "stdout",
     "output_type": "stream",
     "text": [
      "First number: 125\n",
      "Second number: 50\n",
      "Addition of numbers: 175.0\n",
      "Difference of numbers: 75.0\n",
      "Product of numbers: 6250.0\n",
      "Division of numbers: 2.5\n"
     ]
    }
   ],
   "source": [
    "def calc():\n",
    "    a = float(input(\"First number: \"))\n",
    "    b = float(input(\"Second number: \"))\n",
    "    \n",
    "    add_num = a + b\n",
    "    dif_num = a - b\n",
    "    prod_num = a * b\n",
    "    div_num = a / b\n",
    "    \n",
    "    return {\"add_num\": add_num, \"dif_num\": dif_num, \"prod_num\": prod_num, \"div_num\": div_num}\n",
    "\n",
    "results = calc()\n",
    "\n",
    "print(\"Addition of numbers:\", results[\"add_num\"])\n",
    "print(\"Difference of numbers:\", results[\"dif_num\"])\n",
    "print(\"Product of numbers:\", results[\"prod_num\"])\n",
    "print(\"Division of numbers:\", results[\"div_num\"])"
   ]
  },
  {
   "cell_type": "code",
   "execution_count": 8,
   "id": "875b182d",
   "metadata": {},
   "outputs": [],
   "source": [
    "def calc(a,b):\n",
    "       \n",
    "    add_num = a + b\n",
    "    dif_num = a - b\n",
    "    prod_num = a * b\n",
    "    div_num = a / b\n",
    "    \n",
    "    return add_num, dif_num, prod_num, div_num"
   ]
  },
  {
   "cell_type": "code",
   "execution_count": 9,
   "id": "e598374d",
   "metadata": {},
   "outputs": [
    {
     "data": {
      "text/plain": [
       "(175, 75, 6250, 2.5)"
      ]
     },
     "execution_count": 9,
     "metadata": {},
     "output_type": "execute_result"
    }
   ],
   "source": [
    "calc(125,50)"
   ]
  },
  {
   "cell_type": "code",
   "execution_count": 5,
   "id": "af9d3ea6",
   "metadata": {},
   "outputs": [],
   "source": [
    "#Every in bulit fn is docstring type"
   ]
  },
  {
   "cell_type": "code",
   "execution_count": 93,
   "id": "4d9dd9f1",
   "metadata": {},
   "outputs": [],
   "source": [
    "def test1(a,b,c,d,e) :\n",
    "    return a,b,c,d,e"
   ]
  },
  {
   "cell_type": "code",
   "execution_count": 95,
   "id": "2f5d6a45",
   "metadata": {},
   "outputs": [
    {
     "data": {
      "text/plain": [
       "(1, 2, 3, 4, 5)"
      ]
     },
     "execution_count": 95,
     "metadata": {},
     "output_type": "execute_result"
    }
   ],
   "source": [
    "test1(1,2,3,4,5)"
   ]
  },
  {
   "cell_type": "code",
   "execution_count": 9,
   "id": "59496b88",
   "metadata": {},
   "outputs": [],
   "source": [
    "#passing multiple parameters at any point of time"
   ]
  },
  {
   "cell_type": "code",
   "execution_count": 10,
   "id": "5d33b6ce",
   "metadata": {},
   "outputs": [],
   "source": [
    "def test(*a): #single asterisk will pass n no of parameters \n",
    "    return(a) #args"
   ]
  },
  {
   "cell_type": "code",
   "execution_count": 11,
   "id": "9d55191b",
   "metadata": {},
   "outputs": [
    {
     "data": {
      "text/plain": [
       "(1, 2, 3, 4, 89, 5, 65)"
      ]
     },
     "execution_count": 11,
     "metadata": {},
     "output_type": "execute_result"
    }
   ],
   "source": [
    "test(1,2,3,4,89,5,65)"
   ]
  },
  {
   "cell_type": "code",
   "execution_count": 12,
   "id": "77f4eec4",
   "metadata": {},
   "outputs": [],
   "source": [
    "#Creating a list using fn\n",
    "#single asterisk = takes multi values\n",
    "def test5(*a):\n",
    "    l = []\n",
    "    for i in a:\n",
    "        l.append(i)\n",
    "    return l\n",
    "        "
   ]
  },
  {
   "cell_type": "code",
   "execution_count": 13,
   "id": "3b231337",
   "metadata": {},
   "outputs": [
    {
     "data": {
      "text/plain": [
       "[2, 33, 58, 2, 85, 5, 52, 5, 656, 625]"
      ]
     },
     "execution_count": 13,
     "metadata": {},
     "output_type": "execute_result"
    }
   ],
   "source": [
    "test5(2,33,58,2,85,5,52,5,656,625)"
   ]
  },
  {
   "cell_type": "code",
   "execution_count": 15,
   "id": "827809f3",
   "metadata": {},
   "outputs": [],
   "source": [
    "def test6(a,b,c, *n):\n",
    "    return a,b,c, n"
   ]
  },
  {
   "cell_type": "code",
   "execution_count": 16,
   "id": "234bd0d5",
   "metadata": {},
   "outputs": [
    {
     "data": {
      "text/plain": [
       "(56, 62, 69, (5, 26, 9, 39, 39, 39, 529, 95, 9, 5, 9))"
      ]
     },
     "execution_count": 16,
     "metadata": {},
     "output_type": "execute_result"
    }
   ],
   "source": [
    "test6(56,62,69,5,26,9,39,39,39,529,95,9,5,9)"
   ]
  },
  {
   "cell_type": "code",
   "execution_count": 18,
   "id": "95400ee6",
   "metadata": {},
   "outputs": [],
   "source": [
    "def test7(*n,a,b,c):\n",
    "    return n,a,b,c"
   ]
  },
  {
   "cell_type": "code",
   "execution_count": 21,
   "id": "8d2048c9",
   "metadata": {},
   "outputs": [
    {
     "data": {
      "text/plain": [
       "((22515, 5, 15, 15, 85), 3, 55, 5)"
      ]
     },
     "execution_count": 21,
     "metadata": {},
     "output_type": "execute_result"
    }
   ],
   "source": [
    "test7(22515,5,15,15,85, a = 3, b = 55,c = 5)"
   ]
  },
  {
   "cell_type": "code",
   "execution_count": 23,
   "id": "e25a18ef",
   "metadata": {},
   "outputs": [],
   "source": [
    "#double asterisk takes dict as dict items\n",
    "def test8(**sudip):\n",
    "    return sudip"
   ]
  },
  {
   "cell_type": "code",
   "execution_count": 25,
   "id": "a35b300c",
   "metadata": {},
   "outputs": [
    {
     "data": {
      "text/plain": [
       "{'a': 5, 'b': 8, 'c': 5}"
      ]
     },
     "execution_count": 25,
     "metadata": {},
     "output_type": "execute_result"
    }
   ],
   "source": [
    "test8(a = 5, b = 8, c = 5)"
   ]
  },
  {
   "cell_type": "code",
   "execution_count": 26,
   "id": "21480ef6",
   "metadata": {},
   "outputs": [],
   "source": [
    "def test9(*a, **b):\n",
    "    return a,b"
   ]
  },
  {
   "cell_type": "code",
   "execution_count": 28,
   "id": "d0b17c41",
   "metadata": {},
   "outputs": [
    {
     "data": {
      "text/plain": [
       "((55, 565, 66, 8800, 6, 3515), {'a': 56, 'v': 68, 'f': 58})"
      ]
     },
     "execution_count": 28,
     "metadata": {},
     "output_type": "execute_result"
    }
   ],
   "source": [
    "test9(55,565,66,8800,6,3515, a= 56, v=68, f=58)"
   ]
  },
  {
   "cell_type": "code",
   "execution_count": 51,
   "id": "fce28a8d",
   "metadata": {},
   "outputs": [],
   "source": [
    "def sum_of_n_values(n):\n",
    "    total_sum = n * (n + 1) // 2\n",
    "    return total_sum"
   ]
  },
  {
   "cell_type": "code",
   "execution_count": 54,
   "id": "571fce34",
   "metadata": {},
   "outputs": [
    {
     "data": {
      "text/plain": [
       "618342.0"
      ]
     },
     "execution_count": 54,
     "metadata": {},
     "output_type": "execute_result"
    }
   ],
   "source": [
    "sum_of_n_values(1111.5635)"
   ]
  },
  {
   "cell_type": "code",
   "execution_count": 63,
   "id": "33a42766",
   "metadata": {},
   "outputs": [],
   "source": [
    "def testm(*m):\n",
    "    n = 0\n",
    "    for i in m:\n",
    "        if type(i) == int or type(i) == float:\n",
    "            n = n+i\n",
    "    return n"
   ]
  },
  {
   "cell_type": "code",
   "execution_count": 64,
   "id": "2c315f2a",
   "metadata": {},
   "outputs": [
    {
     "data": {
      "text/plain": [
       "440.5"
      ]
     },
     "execution_count": 64,
     "metadata": {},
     "output_type": "execute_result"
    }
   ],
   "source": [
    "testm(25.5,\"Sofi\",85,85,84,8,56,8,89)"
   ]
  },
  {
   "cell_type": "code",
   "execution_count": 68,
   "id": "547fbe3e",
   "metadata": {},
   "outputs": [],
   "source": [
    "def testy(*y):\n",
    "    n = 1\n",
    "    for i in y:\n",
    "        if type(i) == int or type(i) == float:\n",
    "            n = n*i\n",
    "    return n"
   ]
  },
  {
   "cell_type": "code",
   "execution_count": 69,
   "id": "e53dbd36",
   "metadata": {},
   "outputs": [
    {
     "data": {
      "text/plain": [
       "3749370025.5000005"
      ]
     },
     "execution_count": 69,
     "metadata": {},
     "output_type": "execute_result"
    }
   ],
   "source": [
    "testy(55,669,59.59,855,2)"
   ]
  },
  {
   "cell_type": "code",
   "execution_count": 71,
   "id": "d5c9b842",
   "metadata": {},
   "outputs": [],
   "source": [
    "#Lambda fn or anonymous fn"
   ]
  },
  {
   "cell_type": "code",
   "execution_count": 72,
   "id": "b9f11b95",
   "metadata": {},
   "outputs": [],
   "source": [
    "n = lambda a,b : a*b"
   ]
  },
  {
   "cell_type": "code",
   "execution_count": 73,
   "id": "222b579c",
   "metadata": {},
   "outputs": [
    {
     "data": {
      "text/plain": [
       "30"
      ]
     },
     "execution_count": 73,
     "metadata": {},
     "output_type": "execute_result"
    }
   ],
   "source": [
    "n(5,6)"
   ]
  },
  {
   "cell_type": "code",
   "execution_count": 79,
   "id": "5eb35463",
   "metadata": {},
   "outputs": [],
   "source": [
    "b = lambda *Sudip : Sudip"
   ]
  },
  {
   "cell_type": "code",
   "execution_count": 80,
   "id": "79d578a0",
   "metadata": {},
   "outputs": [
    {
     "data": {
      "text/plain": [
       "(5, 5, 5995, 9, 5)"
      ]
     },
     "execution_count": 80,
     "metadata": {},
     "output_type": "execute_result"
    }
   ],
   "source": [
    "b(5,5,5995,9,5)"
   ]
  },
  {
   "cell_type": "code",
   "execution_count": 81,
   "id": "b74decac",
   "metadata": {},
   "outputs": [],
   "source": [
    "#Comprehension operation"
   ]
  },
  {
   "cell_type": "code",
   "execution_count": 82,
   "id": "0d2d29b9",
   "metadata": {},
   "outputs": [
    {
     "data": {
      "text/plain": [
       "[4, 5, 6, 5, 6, 8, 5]"
      ]
     },
     "execution_count": 82,
     "metadata": {},
     "output_type": "execute_result"
    }
   ],
   "source": [
    "t = (4,5,6,5,6,8,5)\n",
    "[i for i in t]"
   ]
  },
  {
   "cell_type": "code",
   "execution_count": 83,
   "id": "b58cbcc9",
   "metadata": {},
   "outputs": [
    {
     "data": {
      "text/plain": [
       "['S', 'U', 'D', 'i', 'p', 'P', 'a', 'i', 'k']"
      ]
     },
     "execution_count": 83,
     "metadata": {},
     "output_type": "execute_result"
    }
   ],
   "source": [
    "s = \"SUDipPaik\"\n",
    "[i for i in s]"
   ]
  },
  {
   "cell_type": "code",
   "execution_count": 91,
   "id": "f12c2215",
   "metadata": {},
   "outputs": [
    {
     "data": {
      "text/plain": [
       "[8100, 8281, 8464, 8649, 8836, 9025, 9216, 9409, 9604, 9801]"
      ]
     },
     "execution_count": 91,
     "metadata": {},
     "output_type": "execute_result"
    }
   ],
   "source": [
    "[i*i for i in range(90,100)]"
   ]
  },
  {
   "cell_type": "code",
   "execution_count": 16,
   "id": "4f33274f",
   "metadata": {},
   "outputs": [],
   "source": [
    "#square of numbers in a list using lambda\n",
    "l = lambda *x : [i**2 for i in x]"
   ]
  },
  {
   "cell_type": "code",
   "execution_count": 17,
   "id": "28c2b4f3",
   "metadata": {},
   "outputs": [
    {
     "data": {
      "text/plain": [
       "[2025, 3136, 4489, 6084, 7921, 808201]"
      ]
     },
     "execution_count": 17,
     "metadata": {},
     "output_type": "execute_result"
    }
   ],
   "source": [
    "l(45,56,67,78,89,899)"
   ]
  },
  {
   "cell_type": "code",
   "execution_count": 31,
   "id": "f8c700ac",
   "metadata": {},
   "outputs": [
    {
     "name": "stdout",
     "output_type": "stream",
     "text": [
      "[121, 441, 961, 1681, 2601]\n"
     ]
    }
   ],
   "source": [
    "# Squaring each element of a list using a lambda function and list comprehension\n",
    "l = [11, 21, 31, 41, 51]\n",
    "l1 = [(lambda x: x**2)(num) for num in l]\n",
    "print(l1)"
   ]
  },
  {
   "cell_type": "code",
   "execution_count": 12,
   "id": "b08247b3",
   "metadata": {},
   "outputs": [
    {
     "name": "stdout",
     "output_type": "stream",
     "text": [
      "31\n"
     ]
    }
   ],
   "source": [
    "#bigger no using lambda\n",
    "bigger = lambda x,y: x if x>y else y\n",
    "print(bigger(30,31))"
   ]
  },
  {
   "cell_type": "code",
   "execution_count": 15,
   "id": "628e79e3",
   "metadata": {},
   "outputs": [
    {
     "name": "stdout",
     "output_type": "stream",
     "text": [
      "odd\n"
     ]
    }
   ],
   "source": [
    "#even odd using lambda\n",
    "evenodd = lambda x : 'even' if x%2==0 else 'odd'\n",
    "print(evenodd(21))"
   ]
  },
  {
   "cell_type": "code",
   "execution_count": 160,
   "id": "456f7580",
   "metadata": {},
   "outputs": [],
   "source": [
    "def test(**k):\n",
    "    count = 0\n",
    "    for i in k.values():\n",
    "        if type(i) == str or type(i) == list:\n",
    "            count+=1\n",
    "    return count"
   ]
  },
  {
   "cell_type": "code",
   "execution_count": 162,
   "id": "032b5c30",
   "metadata": {
    "scrolled": true
   },
   "outputs": [
    {
     "data": {
      "text/plain": [
       "3"
      ]
     },
     "execution_count": 162,
     "metadata": {},
     "output_type": "execute_result"
    }
   ],
   "source": [
    "test(a=7 , b= \"sudi\" , c=\"sudip\" , d = [2,3,5,6,\"sudip\"])"
   ]
  },
  {
   "cell_type": "code",
   "execution_count": 123,
   "id": "4d6b3641",
   "metadata": {},
   "outputs": [],
   "source": [
    "def test15(**kw):\n",
    "    return list(kw.values())"
   ]
  },
  {
   "cell_type": "code",
   "execution_count": 124,
   "id": "f4abb1a8",
   "metadata": {},
   "outputs": [
    {
     "data": {
      "text/plain": [
       "[7, 'sudip', 'sudip', [2, 3, 5, 6, 'sudip']]"
      ]
     },
     "execution_count": 124,
     "metadata": {},
     "output_type": "execute_result"
    }
   ],
   "source": [
    "test15(a=7 , b= \"sudip\" , c=\"sudip\" , d = [2,3,5,6,\"sudip\"])"
   ]
  },
  {
   "cell_type": "code",
   "execution_count": 137,
   "id": "f51fb1cf",
   "metadata": {},
   "outputs": [],
   "source": [
    "def primeornot(a):\n",
    "    for i in range(1000):\n",
    "        if i<=7:\n",
    "            if i % 2 == 0 or i % 3 == 0 or i % 5 == 0 or i % 7 == 0:\n",
    "                return \"Prime\"\n",
    "        if i>7 :\n",
    "            if i % 2 != 0 and i % 3 != 0 and i % 5 != 0 and i % 7 != 0:\n",
    "                return \"Prime\"\n",
    "        else :\n",
    "             return \"Not Prime\""
   ]
  },
  {
   "cell_type": "code",
   "execution_count": 149,
   "id": "dea0c23c",
   "metadata": {},
   "outputs": [],
   "source": [
    "conc = lambda *n: \"\".join(str(i) for i in n)"
   ]
  },
  {
   "cell_type": "code",
   "execution_count": 145,
   "id": "f632a706",
   "metadata": {},
   "outputs": [
    {
     "data": {
      "text/plain": [
       "'SudipLovestheoffice123'"
      ]
     },
     "execution_count": 145,
     "metadata": {},
     "output_type": "execute_result"
    }
   ],
   "source": [
    "conc(\"Sudip\",\"Loves\",\"theoffice\",123)"
   ]
  },
  {
   "cell_type": "code",
   "execution_count": 157,
   "id": "9908cfcf",
   "metadata": {},
   "outputs": [],
   "source": [
    "concat = lambda *n : \"\".join([i for i in n])"
   ]
  },
  {
   "cell_type": "code",
   "execution_count": 158,
   "id": "3ad5e554",
   "metadata": {},
   "outputs": [
    {
     "data": {
      "text/plain": [
       "'SudipLovestheoffice'"
      ]
     },
     "execution_count": 158,
     "metadata": {},
     "output_type": "execute_result"
    }
   ],
   "source": [
    "concat(\"Sudip\",\"Loves\",\"theoffice\")"
   ]
  },
  {
   "cell_type": "code",
   "execution_count": 2,
   "id": "52bf6d97",
   "metadata": {},
   "outputs": [],
   "source": [
    "square = lambda a,b : [i**2 for i in range(a,b)]"
   ]
  },
  {
   "cell_type": "code",
   "execution_count": 3,
   "id": "48c47ac4",
   "metadata": {},
   "outputs": [
    {
     "data": {
      "text/plain": [
       "[1,\n",
       " 4,\n",
       " 9,\n",
       " 16,\n",
       " 25,\n",
       " 36,\n",
       " 49,\n",
       " 64,\n",
       " 81,\n",
       " 100,\n",
       " 121,\n",
       " 144,\n",
       " 169,\n",
       " 196,\n",
       " 225,\n",
       " 256,\n",
       " 289,\n",
       " 324,\n",
       " 361,\n",
       " 400]"
      ]
     },
     "execution_count": 3,
     "metadata": {},
     "output_type": "execute_result"
    }
   ],
   "source": [
    "square(1,21)"
   ]
  },
  {
   "cell_type": "code",
   "execution_count": 2,
   "id": "e79c4e58",
   "metadata": {},
   "outputs": [
    {
     "data": {
      "text/plain": [
       "4701"
      ]
     },
     "execution_count": 2,
     "metadata": {},
     "output_type": "execute_result"
    }
   ],
   "source": [
    "add = lambda x,y,z : x+y+z\n",
    "add(294,345,4062)"
   ]
  },
  {
   "cell_type": "code",
   "execution_count": 28,
   "id": "67e39434",
   "metadata": {},
   "outputs": [
    {
     "name": "stdout",
     "output_type": "stream",
     "text": [
      "Enter first number: 5959\n",
      "Enter second number: 26558\n",
      "32517\n"
     ]
    }
   ],
   "source": [
    "add = lambda: int(input(\"Enter first number: \")) + int(input(\"Enter second number: \"))\n",
    "print(add())"
   ]
  },
  {
   "cell_type": "code",
   "execution_count": 33,
   "id": "1e66c22b",
   "metadata": {},
   "outputs": [
    {
     "name": "stdout",
     "output_type": "stream",
     "text": [
      "{'name': 'Product2', 'price': 30}\n",
      "{'name': 'Product1', 'price': 500}\n",
      "{'name': 'Product3', 'price': 4510}\n",
      "{'name': 'Product4', 'price': 20000}\n"
     ]
    }
   ],
   "source": [
    "#sorted\n",
    "products = [\n",
    "    {'name': 'Product1', 'price': 500},\n",
    "    {'name': 'Product2', 'price': 30},\n",
    "    {'name': 'Product3', 'price': 4510},\n",
    "    {'name': 'Product4', 'price': 20000},\n",
    "]\n",
    "\n",
    "sorted_prod = sorted(products, key = lambda x : x ['price'])\n",
    "for products in sorted_prod:\n",
    "    print(products)"
   ]
  },
  {
   "cell_type": "code",
   "execution_count": 1,
   "id": "8466c9d7",
   "metadata": {},
   "outputs": [
    {
     "name": "stdout",
     "output_type": "stream",
     "text": [
      "{'name': 'Product4', 'price': 20000}\n",
      "{'name': 'Product3', 'price': 4510}\n",
      "{'name': 'Product1', 'price': 500}\n",
      "{'name': 'Product2', 'price': 30}\n"
     ]
    }
   ],
   "source": [
    "products = [\n",
    "    {'name': 'Product1', 'price': 500},\n",
    "    {'name': 'Product2', 'price': 30},\n",
    "    {'name': 'Product3', 'price': 4510},\n",
    "    {'name': 'Product4', 'price': 20000},\n",
    "]\n",
    "\n",
    "sorted_prod = sorted(products, key = lambda x : x ['price'], reverse = True)\n",
    "for products in sorted_prod:\n",
    "    print(products)"
   ]
  },
  {
   "cell_type": "code",
   "execution_count": 1,
   "id": "3852f003",
   "metadata": {},
   "outputs": [
    {
     "name": "stdout",
     "output_type": "stream",
     "text": [
      "34\n"
     ]
    }
   ],
   "source": [
    "def fibo(n):\n",
    "    # Base case\n",
    "    if n <= 1:\n",
    "        return n\n",
    "    # Recursive case\n",
    "    else:\n",
    "        return fibo(n-2) + fibo(n - 1)\n",
    "\n",
    "print(fibo(9))"
   ]
  },
  {
   "cell_type": "code",
   "execution_count": 2,
   "id": "64ff664a",
   "metadata": {},
   "outputs": [
    {
     "name": "stdout",
     "output_type": "stream",
     "text": [
      "0\n",
      "1\n",
      "1\n",
      "2\n",
      "3\n",
      "5\n"
     ]
    }
   ],
   "source": [
    "def fibo(n):\n",
    "    a,b = 0,1\n",
    "    for i in range(n):\n",
    "        print(a)\n",
    "        a, b = b, a + b\n",
    "fibo(6)"
   ]
  },
  {
   "cell_type": "code",
   "execution_count": null,
   "id": "10c817bb",
   "metadata": {},
   "outputs": [],
   "source": []
  }
 ],
 "metadata": {
  "kernelspec": {
   "display_name": "Python 3 (ipykernel)",
   "language": "python",
   "name": "python3"
  },
  "language_info": {
   "codemirror_mode": {
    "name": "ipython",
    "version": 3
   },
   "file_extension": ".py",
   "mimetype": "text/x-python",
   "name": "python",
   "nbconvert_exporter": "python",
   "pygments_lexer": "ipython3",
   "version": "3.9.12"
  }
 },
 "nbformat": 4,
 "nbformat_minor": 5
}
